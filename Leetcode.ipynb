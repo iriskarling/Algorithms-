{
 "cells": [
  {
   "cell_type": "markdown",
   "metadata": {},
   "source": [
    "# 1.两数之和"
   ]
  },
  {
   "cell_type": "code",
   "execution_count": 9,
   "metadata": {},
   "outputs": [],
   "source": [
    "def twoSum(nums, target):\n",
    "    \"\"\"\n",
    "    :type nums: List[int]\n",
    "    :type target: int\n",
    "    :rtype: List[int]\n",
    "    \"\"\"\n",
    "    for i in range(len(nums)):\n",
    "        result = []\n",
    "        result.append(i)\n",
    "        othernum = target - nums[i]\n",
    "        for j in range(i+1,len(nums)):\n",
    "            if nums[j] == othernum:\n",
    "                result.append(j)              \n",
    "                return result"
   ]
  },
  {
   "cell_type": "code",
   "execution_count": 15,
   "metadata": {},
   "outputs": [
    {
     "data": {
      "text/plain": [
       "[1, 2]"
      ]
     },
     "execution_count": 15,
     "metadata": {},
     "output_type": "execute_result"
    }
   ],
   "source": [
    "nums = [3,2,4]\n",
    "target =6\n",
    "twoSum(nums,target)\n"
   ]
  },
  {
   "cell_type": "code",
   "execution_count": 14,
   "metadata": {},
   "outputs": [],
   "source": [
    "def twoSum(nums, target):\n",
    "    hashmap = {}\n",
    "    for index,num in enumerate(nums):\n",
    "        another_num = target -num\n",
    "        if another_num in hashmap:\n",
    "            return [hashmap[another_num],index]\n",
    "        hashmap[num] = index\n",
    "    return None"
   ]
  },
  {
   "cell_type": "code",
   "execution_count": 26,
   "metadata": {},
   "outputs": [],
   "source": [
    "a =111111111111111111111111111111112\n",
    "string = str(a)\n",
    "string = string[::-1]"
   ]
  },
  {
   "cell_type": "markdown",
   "metadata": {},
   "source": [
    "# 7.整数反转 "
   ]
  },
  {
   "cell_type": "code",
   "execution_count": 30,
   "metadata": {},
   "outputs": [],
   "source": [
    "    def reverse(x):\n",
    "        \"\"\"\n",
    "        :type x: int\n",
    "        :rtype: int\n",
    "        \"\"\"\n",
    "        if x >= 2**31-1 or x <= -2**31:\n",
    "            return 0        \n",
    "        string = str(x)\n",
    "        if string[0] == '-':\n",
    "            string = string[1:]\n",
    "            string = string[::-1]\n",
    "            result = int(string)\n",
    "            result = -1*result\n",
    "            return result\n",
    "        else:\n",
    "            string = string[::-1]\n",
    "            result = int(string)\n",
    "            return result"
   ]
  },
  {
   "cell_type": "code",
   "execution_count": 32,
   "metadata": {},
   "outputs": [
    {
     "data": {
      "text/plain": [
       "9646324351"
      ]
     },
     "execution_count": 32,
     "metadata": {},
     "output_type": "execute_result"
    }
   ],
   "source": [
    "reverse(1534236469)"
   ]
  },
  {
   "cell_type": "markdown",
   "metadata": {},
   "source": [
    "# 9.回文数"
   ]
  },
  {
   "cell_type": "code",
   "execution_count": 83,
   "metadata": {},
   "outputs": [],
   "source": [
    "def isValid(s):\n",
    "    \"\"\"\n",
    "    :type s: str\n",
    "    :rtype: bool\n",
    "    \"\"\"\n",
    "    stack = []\n",
    "    rihgt = [')',']','}']\n",
    "    left = ['(','{','[']\n",
    "    flag = False\n",
    "    if s == \"\":\n",
    "        return True\n",
    "    for i in range(len(s)):\n",
    "        if s[i] in left:\n",
    "            stack.append(s[i])\n",
    "            print(s[i])\n",
    "        else:\n",
    "            if stack ==[]:\n",
    "                return False\n",
    "            res = stack.pop()\n",
    "            if res == '(' and s[i] == ')':\n",
    "                flag = True\n",
    "            elif res == '[' and s[i] == ']':\n",
    "                flag = True\n",
    "            elif res == '{' and s[i] == '}':\n",
    "                flag = True\n",
    "            else:\n",
    "                return False\n",
    "    if stack != []:\n",
    "        return False\n",
    "\n",
    "    return flag\n",
    "                    "
   ]
  },
  {
   "cell_type": "markdown",
   "metadata": {},
   "source": [
    "# 2.两数相加 链表"
   ]
  },
  {
   "cell_type": "code",
   "execution_count": 86,
   "metadata": {},
   "outputs": [],
   "source": [
    "class ListNode(object):\n",
    "    def _init_(self,x):\n",
    "        self.val = x\n",
    "        self.next = None\n"
   ]
  },
  {
   "cell_type": "code",
   "execution_count": null,
   "metadata": {},
   "outputs": [],
   "source": [
    "class Solution:\n",
    "    def addTwoNumbers(self, l1: ListNode, l2: ListNode) -> ListNode:\n",
    "        add = 0\n",
    "        l3 = l4 = ListNode(0)\n",
    "        while l1 or l2 or add:\n",
    "            val1 = l1.val if l1 else 0\n",
    "            val2 = l2.val if l2 else 0\n",
    "            num = val1 + val2 + add\n",
    "            add = 0\n",
    "            if num // 10 > 0:\n",
    "                add = 1\n",
    "                num = num % 10\n",
    "            l3.next = ListNode(num)\n",
    "            l3 = l3.next\n",
    "            l1 = l1.next if l1 else l1\n",
    "            l2 = l2.next if l2 else l2\n",
    "\n",
    "        return l4.next\n",
    "    "
   ]
  },
  {
   "cell_type": "markdown",
   "metadata": {},
   "source": [
    "# 46. 全连接\n"
   ]
  },
  {
   "cell_type": "code",
   "execution_count": 12,
   "metadata": {},
   "outputs": [],
   "source": [
    "def permute(nums):\n",
    "    \"\"\"\n",
    "    :type nums: List[int]\n",
    "    :rtype: List[List[int]]\n",
    "    \"\"\"\n",
    "    def backtrack(first = 0):\n",
    "        print('first',first)\n",
    "        if first == n:  \n",
    "            output.append(nums[:])\n",
    "            print('output',output)\n",
    "        for i in range(first, n):\n",
    "            print('i:',i,'swap',first,i,'nums',nums)\n",
    "            nums[first], nums[i] = nums[i], nums[first]\n",
    "            backtrack(first + 1)\n",
    "            nums[first], nums[i] = nums[i], nums[first]\n",
    "            print('i after:',i,'swap',first,i ,nums)\n",
    "\n",
    "    n = len(nums)\n",
    "    output = []\n",
    "    backtrack()\n",
    "    return output\n"
   ]
  },
  {
   "cell_type": "code",
   "execution_count": 3,
   "metadata": {},
   "outputs": [],
   "source": [
    "def combination(lists):\n",
    "    if len(lists) == 1:\n",
    "        return [lists]\n",
    "    res = []\n",
    "    for i in range(len(lists)):\n",
    "        rest = lists[:i] + lists[i+1:]\n",
    "        result = combination(rest)\n",
    "        for j in result:\n",
    "            res.append(lists[i:i+1]+j)\n",
    "    return res"
   ]
  },
  {
   "cell_type": "markdown",
   "metadata": {},
   "source": [
    "#  19.删除链表的倒数第N个节点\n",
    "\n",
    "### 快慢节点\n"
   ]
  },
  {
   "cell_type": "code",
   "execution_count": 15,
   "metadata": {},
   "outputs": [],
   "source": [
    "class Solution(object):\n",
    "    def removeNthFromEnd(self, head, n):\n",
    "        \"\"\"\n",
    "        :type head: ListNode\n",
    "        :type n: int\n",
    "        :rtype: ListNode\n",
    "        \"\"\"\n",
    "        if not head:\n",
    "            return \n",
    "        cur = ListNode(0)\n",
    "        cur.next = head\n",
    "        fast = cur\n",
    "        while n:\n",
    "            fast = fast.next\n",
    "            n -= 1\n",
    "        slow = cur\n",
    "        while fast and fast.next:\n",
    "            fast = fast.next\n",
    "            slow = slow.next\n",
    "        slow.next = slow.next.next\n",
    "        return cur.next #只有一个数时 eg, [1] 1，若 return head ,仍会返回 1"
   ]
  },
  {
   "cell_type": "code",
   "execution_count": 16,
   "metadata": {},
   "outputs": [],
   "source": [
    "#普通写法\n",
    "class Solution(object):\n",
    "    def removeNthFromEnd(self, head, n):\n",
    "        \"\"\"\n",
    "        :type head: ListNode\n",
    "        :type n: int\n",
    "        :rtype: ListNode\n",
    "        \"\"\"\n",
    "        cur = ListNode(0)\n",
    "        cur.next = head\n",
    "        count = cur\n",
    "        count = count.next\n",
    "        t = 0\n",
    "        while( count != None):\n",
    "            count = count.next\n",
    "            t += 1\n",
    "        nex  = cur\n",
    "        for i in range(t-n):\n",
    "            nex = nex.next\n",
    "        nex.next= nex.next.next\n",
    "        return cur.next\n",
    "            "
   ]
  },
  {
   "cell_type": "markdown",
   "metadata": {},
   "source": [
    "# 47.全排列 II\n"
   ]
  },
  {
   "cell_type": "code",
   "execution_count": 30,
   "metadata": {},
   "outputs": [],
   "source": [
    "def permuteUnique(nums):\n",
    "    def backtrack(first = 0):\n",
    "        if first == n:\n",
    "            if nums[:] not in output:\n",
    "                output.append(nums[:])\n",
    "        for i in range(first,n):\n",
    "            nums[first], nums[i] = nums[i],nums[first]\n",
    "            backtrack(first+1)\n",
    "            nums[first], nums[i] = nums[i],nums[first]                \n",
    "\n",
    "    n = len(nums)\n",
    "    output = []\n",
    "    backtrack()\n",
    "    return output"
   ]
  },
  {
   "cell_type": "code",
   "execution_count": 72,
   "metadata": {},
   "outputs": [],
   "source": [
    "#wrong code\n",
    "def permuteUnique( nums):\n",
    "    \"\"\"\n",
    "    :type nums: List[int]\n",
    "    :rtype: List[List[int]]\n",
    "    \"\"\"\n",
    "    nums.sort()\n",
    "    if len(nums) <= 1:\n",
    "        return [nums]         \n",
    "    result = permuteUnique(nums[1:])\n",
    "    out = []\n",
    "    for res in result:\n",
    "        i = 0\n",
    "        while(i < (len(res)+1)):\n",
    "            if(i <len(res) and nums[0] == res[i]):\n",
    "                print(res,nums[0],nums[i])\n",
    "                i += 1\n",
    "                temp = res[0:i] +[nums[0]] + res[i:]\n",
    "                out.append(temp)\n",
    "            else:\n",
    "                temp = res[0:i] +[nums[0]] + res[i:]\n",
    "                out.append(temp)\n",
    "            i += 1\n",
    "    return out\n",
    "\n"
   ]
  },
  {
   "cell_type": "markdown",
   "metadata": {},
   "source": [
    "# 15.三数之和"
   ]
  },
  {
   "cell_type": "code",
   "execution_count": 78,
   "metadata": {},
   "outputs": [],
   "source": [
    "def threeSum( nums):\n",
    "    \"\"\"\n",
    "    :type nums: List[int]\n",
    "    :rtype: List[List[int]]\n",
    "    \"\"\"\n",
    "    nums.sort()\n",
    "    n = len(nums)\n",
    "\n",
    "    if n <= 2  :\n",
    "        return\n",
    "\n",
    "    output = []\n",
    "    i = 0\n",
    "    for i in range(0,n-2):\n",
    "        if nums[i] > 0:\n",
    "            break\n",
    "        if i > 0 and nums[i-1] == nums[i]:\n",
    "            continue  \n",
    "        othersum = -nums[i]\n",
    "        left = i+1\n",
    "        right = n-1\n",
    "        while (left < right):\n",
    "            if nums[left] + nums[right] ==  othersum :\n",
    "                output.append([nums[i],nums[left],nums[right]])\n",
    "                while left < right and nums[left] == nums[left+1]:\n",
    "                    left += 1\n",
    "                while left <right and nums[right] == nums[right-1]:\n",
    "                    right -= 1\n",
    "                left += 1\n",
    "                right -=1\n",
    "                \n",
    "            elif nums[left] + nums[right] > othersum:\n",
    "                right -= 1\n",
    "            else:\n",
    "                left += 1\n",
    "    return output\n"
   ]
  },
  {
   "cell_type": "code",
   "execution_count": 79,
   "metadata": {},
   "outputs": [
    {
     "data": {
      "text/plain": [
       "[[-5, 0, 5], [-4, 0, 4], [-4, 2, 2]]"
      ]
     },
     "execution_count": 79,
     "metadata": {},
     "output_type": "execute_result"
    }
   ],
   "source": [
    "threeSum([-5,-4,0,2,2,4,5])"
   ]
  },
  {
   "cell_type": "code",
   "execution_count": 77,
   "metadata": {},
   "outputs": [
    {
     "data": {
      "text/plain": [
       "[[0, 0, 0]]"
      ]
     },
     "execution_count": 77,
     "metadata": {},
     "output_type": "execute_result"
    }
   ],
   "source": [
    "threeSum([0,0,0])"
   ]
  },
  {
   "cell_type": "markdown",
   "metadata": {},
   "source": [
    "# 206.反转链表"
   ]
  },
  {
   "cell_type": "code",
   "execution_count": 1,
   "metadata": {},
   "outputs": [],
   "source": [
    "def reverseList(self, head):\n",
    "    \"\"\"\n",
    "    :type head: ListNode\n",
    "    :rtype: ListNode\n",
    "    \"\"\"\n",
    "    cur = temp = head\n",
    "    prev = None\n",
    "    while(cur != None):\n",
    "        temp = ListNode(cur.val)\n",
    "        temp.next = prev\n",
    "        prev = temp\n",
    "        cur = cur.next\n",
    "    return temp"
   ]
  },
  {
   "cell_type": "markdown",
   "metadata": {},
   "source": [
    "# 92. 反转链表 II"
   ]
  },
  {
   "cell_type": "code",
   "execution_count": null,
   "metadata": {},
   "outputs": [],
   "source": [
    "class Solution(object):\n",
    "    def reverseBetween(self, head, m, n):\n",
    "        \"\"\"\n",
    "        :type head: ListNode\n",
    "        :type m: int\n",
    "        :type n: int\n",
    "        :rtype: ListNode\n",
    "        \"\"\"\n",
    "        if head == None or head.next == None or m >= n or m < 0 or n < 0:\n",
    "            return head\n",
    "        \n",
    "        pre = None\n",
    "        cur = head\n",
    "        i = 1\n",
    "        while i < m + 1 and cur != None:\n",
    "            pre = cur\n",
    "            cur = cur.next\n",
    "            i += 1\n",
    "        \n",
    "        t1 = pre\n",
    "        t2 = cur\n",
    "        \n",
    "        while i <= n + 1 and cur != None:\n",
    "            lat = cur.next\n",
    "            print(i,lat.val,cur.next.val)\n",
    "            cur.next = pre\n",
    "            print(i,lat.val,cur.next.val)\n",
    "            pre = cur\n",
    "            cur = lat\n",
    "            i += 1\n",
    "        if m == 0:\n",
    "            t2.next = cur\n",
    "            return pre\n",
    "        t1.next = pre\n",
    "        t2.next = cur\n",
    "        return head"
   ]
  },
  {
   "cell_type": "code",
   "execution_count": null,
   "metadata": {},
   "outputs": [],
   "source": []
  }
 ],
 "metadata": {
  "kernelspec": {
   "display_name": "Python 3",
   "language": "python",
   "name": "python3"
  },
  "language_info": {
   "codemirror_mode": {
    "name": "ipython",
    "version": 3
   },
   "file_extension": ".py",
   "mimetype": "text/x-python",
   "name": "python",
   "nbconvert_exporter": "python",
   "pygments_lexer": "ipython3",
   "version": "3.6.5"
  }
 },
 "nbformat": 4,
 "nbformat_minor": 2
}
