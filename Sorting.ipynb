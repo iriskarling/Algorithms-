{
 "cells": [
  {
   "cell_type": "markdown",
   "metadata": {},
   "source": [
    "# 插入排序  O(n^2)\n",
    "稳定"
   ]
  },
  {
   "cell_type": "code",
   "execution_count": 38,
   "metadata": {},
   "outputs": [],
   "source": [
    "def insert_sort(lists):\n",
    "    count =len(lists)\n",
    "    for i in range(1,count):#从lists 第二位开始\n",
    "        j = i - 1\n",
    "        while j >= 0:#遍历已排好序的序列\n",
    "            if lists[j] > lists[j+1]:\n",
    "                lists[j+1],lists[j]= lists[j],lists[j+1]\n",
    "                j -= 1\n",
    "            else:\n",
    "                break\n",
    "    return lists"
   ]
  },
  {
   "cell_type": "code",
   "execution_count": 39,
   "metadata": {},
   "outputs": [
    {
     "data": {
      "text/plain": [
       "[1, 2, 2, 4, 5, 23, 24, 30, 45, 52, 56, 88, 100, 100, 200]"
      ]
     },
     "execution_count": 39,
     "metadata": {},
     "output_type": "execute_result"
    }
   ],
   "source": [
    "lists = [100,100,1,200,30,88,23,45,24,56,2,4,5,2,52]\n",
    "insert_sort(lists)"
   ]
  },
  {
   "cell_type": "markdown",
   "metadata": {},
   "source": [
    "# 希尔排序  O(n^2)\n",
    "不稳定"
   ]
  },
  {
   "cell_type": "code",
   "execution_count": 30,
   "metadata": {},
   "outputs": [],
   "source": [
    "\n",
    "import numpy as np\n",
    "def shell_sort(lists):\n",
    "    count = len(lists)\n",
    "    step = 2\n",
    "    group = count / step\n",
    "    group = int(group)\n",
    "    while group > 0:# 循环条件 直到group 为 1\n",
    "        group = int(group)\n",
    "        for i in range(group):# 循环组 排序\n",
    "            j = i + group\n",
    "            while j < count:\n",
    "                k = j - group\n",
    "                key = lists[j]\n",
    "                while k >= 0:\n",
    "                    if lists[k] > key:\n",
    "                        lists[k+group] = lists[k]\n",
    "                        lists[k] = key\n",
    "                    k-= group\n",
    "                j += group\n",
    "            print(lists)\n",
    "        group /= step\n",
    "    return lists\n"
   ]
  },
  {
   "cell_type": "code",
   "execution_count": 31,
   "metadata": {},
   "outputs": [
    {
     "name": "stdout",
     "output_type": "stream",
     "text": [
      "15\n",
      "[45, 100, 1, 200, 30, 88, 23, 52, 24, 56, 2, 4, 5, 2, 100]\n",
      "[45, 24, 1, 200, 30, 88, 23, 52, 100, 56, 2, 4, 5, 2, 100]\n",
      "[45, 24, 1, 200, 30, 88, 23, 52, 100, 56, 2, 4, 5, 2, 100]\n",
      "[45, 24, 1, 2, 30, 88, 23, 52, 100, 56, 200, 4, 5, 2, 100]\n",
      "[45, 24, 1, 2, 4, 88, 23, 52, 100, 56, 200, 30, 5, 2, 100]\n",
      "[45, 24, 1, 2, 4, 5, 23, 52, 100, 56, 200, 30, 88, 2, 100]\n",
      "[45, 24, 1, 2, 4, 5, 2, 52, 100, 56, 200, 30, 88, 23, 100]\n",
      "[2, 24, 1, 2, 4, 5, 45, 52, 100, 56, 200, 30, 88, 23, 100]\n",
      "[2, 4, 1, 2, 23, 5, 45, 24, 100, 56, 52, 30, 88, 200, 100]\n",
      "[2, 4, 1, 2, 23, 5, 45, 24, 30, 56, 52, 100, 88, 200, 100]\n",
      "[1, 2, 2, 4, 5, 23, 24, 30, 45, 52, 56, 88, 100, 100, 200]\n"
     ]
    },
    {
     "data": {
      "text/plain": [
       "[1, 2, 2, 4, 5, 23, 24, 30, 45, 52, 56, 88, 100, 100, 200]"
      ]
     },
     "execution_count": 31,
     "metadata": {},
     "output_type": "execute_result"
    }
   ],
   "source": [
    "lists = [100,100,1,200,30,88,23,45,24,56,2,4,5,2,52]\n",
    "print(len(lists))\n",
    "shell_sort(lists)"
   ]
  },
  {
   "cell_type": "markdown",
   "metadata": {},
   "source": [
    "# 冒泡排序 O(n^2)\n",
    "稳定"
   ]
  },
  {
   "cell_type": "code",
   "execution_count": 12,
   "metadata": {},
   "outputs": [],
   "source": [
    "def bubble_sort(lists):\n",
    "    count = len(lists)\n",
    "    for i in range(count-1):\n",
    "        for j in range(count-i-1):\n",
    "            if lists[j] > lists[j+1]:\n",
    "                lists[j],lists[j+1] = lists[j+1], lists[j]      \n",
    "    return lists"
   ]
  },
  {
   "cell_type": "code",
   "execution_count": 13,
   "metadata": {},
   "outputs": [
    {
     "data": {
      "text/plain": [
       "[1, 2, 2, 4, 5, 21, 23, 24, 30, 34, 45, 52, 56, 88, 89, 100, 100, 200]"
      ]
     },
     "execution_count": 13,
     "metadata": {},
     "output_type": "execute_result"
    }
   ],
   "source": [
    "lists = [100,100,1,200,30,88,23,45,24,56,2,4,5,2,52,34,21,89]\n",
    "bubble_sort(lists)"
   ]
  },
  {
   "cell_type": "markdown",
   "metadata": {},
   "source": [
    "#  快速排序 O(nlogn)\n",
    "不稳定\n"
   ]
  },
  {
   "cell_type": "code",
   "execution_count": 1,
   "metadata": {},
   "outputs": [],
   "source": [
    "def quick_sort(lists,left,right):\n",
    "    if left >= right:# 递归结束条件\n",
    "        return lists\n",
    "    key =lists[left] #以list最左边的数为基准\n",
    "    low = left \n",
    "    high = right\n",
    "    while left < right:#直到左右指针相遇\n",
    "        while left < right and lists[right] >= key:\n",
    "            right -=1 #移动右指针从后向前找到比key值小的数\n",
    "        lists[left] = lists[right] #将该数赋值给 left指针所对应的位置\n",
    "        while left < right and lists[left] <= key:\n",
    "            left += 1 #移动做指针从前向后找到比key值大的数\n",
    "        lists[right] = lists[left]#将该数赋值给 right 指针所对应的位置\n",
    "    lists[right] = key #将key值赋值到left/right 重合的位置\n",
    "    quick_sort(lists,low,left -1)#递归 快排序左子序列\n",
    "    quick_sort(lists,left+1,high)# 递归 快排序右子序列\n",
    "    return lists"
   ]
  },
  {
   "cell_type": "code",
   "execution_count": 2,
   "metadata": {},
   "outputs": [
    {
     "data": {
      "text/plain": [
       "[1, 2, 2, 4, 5, 23, 24, 30, 45, 52, 56, 88, 100, 100, 200]"
      ]
     },
     "execution_count": 2,
     "metadata": {},
     "output_type": "execute_result"
    }
   ],
   "source": [
    "lists = [100,100,1,200,30,88,23,45,24,56,2,4,5,2,52]\n",
    "quick_sort(lists,0,len(lists)-1)"
   ]
  },
  {
   "cell_type": "markdown",
   "metadata": {},
   "source": [
    "# 选择排序 O(n^2)\n",
    "不稳定"
   ]
  },
  {
   "cell_type": "code",
   "execution_count": 6,
   "metadata": {},
   "outputs": [],
   "source": [
    "def select_sort(lists):\n",
    "    count = len(lists)\n",
    "    for i in range(0,count):\n",
    "        min = i\n",
    "        for j in range(i+1,count):\n",
    "            if lists[min] > lists[j]:\n",
    "                min = j\n",
    "        lists[min], lists[i] = lists[i],lists[min]\n",
    "    return lists"
   ]
  },
  {
   "cell_type": "code",
   "execution_count": 7,
   "metadata": {},
   "outputs": [
    {
     "data": {
      "text/plain": [
       "[1, 2, 2, 4, 5, 23, 24, 30, 45, 52, 56, 88, 100, 100, 200]"
      ]
     },
     "execution_count": 7,
     "metadata": {},
     "output_type": "execute_result"
    }
   ],
   "source": [
    "lists = [100,100,1,200,30,88,23,45,24,56,2,4,5,2,52]\n",
    "select_sort(lists)"
   ]
  },
  {
   "cell_type": "markdown",
   "metadata": {},
   "source": [
    "# 堆排序 O(nlogn)\n",
    "不稳定"
   ]
  },
  {
   "cell_type": "code",
   "execution_count": 4,
   "metadata": {},
   "outputs": [],
   "source": [
    "\n",
    "def adjust_heap(lists,i,size):\n",
    "    lchild = 2 * i + 1\n",
    "    rchild = 2 * i + 2\n",
    "    max = i\n",
    "    if i < size / 2:\n",
    "        if lchild < size and lists[lchild] > lists[max]:\n",
    "            max = lchild\n",
    "        if rchild <size and lists[rchild] > lists[max]:\n",
    "            max = rchild\n",
    "        if max != i:\n",
    "            lists[max], lists[i] = lists[i], lists[max]\n",
    "            adjust_heap(lists,max,size)\n",
    "            \n",
    "def build_heap(lists,size):\n",
    "    count = int(size)\n",
    "    for i in range(0,count)[::-1]:# 从最后一位开始调整堆\n",
    "        adjust_heap(lists,i,size)\n",
    "    \n",
    "def heap_sort(lists):\n",
    "    size = len(lists)\n",
    "    build_heap(lists,size)\n",
    "    for i in range(0,size)[::-1]:#将大顶堆的root 与 最后一位调换\n",
    "        lists[0], lists[i] = lists[i], lists[0]\n",
    "        adjust_heap(lists,0,i)\n"
   ]
  },
  {
   "cell_type": "code",
   "execution_count": 6,
   "metadata": {},
   "outputs": [
    {
     "data": {
      "text/plain": [
       "range(0, 8)"
      ]
     },
     "execution_count": 6,
     "metadata": {},
     "output_type": "execute_result"
    }
   ],
   "source": [
    "lists = [100,100,1,200,30,88,23,45,24,56,2,4,5,2,52]\n",
    "heap_sort(lists)\n"
   ]
  },
  {
   "cell_type": "markdown",
   "metadata": {},
   "source": [
    "# 归并排序 O(nlogn）\n",
    "稳定\n"
   ]
  },
  {
   "cell_type": "code",
   "execution_count": 86,
   "metadata": {},
   "outputs": [],
   "source": [
    "def merge(left,right):# 合并两个 子序列\n",
    "    i, j = 0, 0\n",
    "    result = []\n",
    "    while i < len(left) and j < len(right):#控制移动i,j 游标 判断左右子序列对应位置 数字大小，加入 result\n",
    "        if left[i] <= right[j]:\n",
    "            result.append(left[i])\n",
    "            i += 1\n",
    "        else:\n",
    "            result.append(right[j])\n",
    "            j += 1\n",
    "    result += left[i:] #退出循环 即 左子序列或右子序列最后一个数一定小于等于 未遍历完的子序列，直接将该子序列加入result\n",
    "    result += right[j:]\n",
    "    return result\n",
    "\n",
    "def merge_sort(lists):\n",
    "    if len(lists) <= 1: #长度小于一直接返回 lists 递归结束条件\n",
    "        return lists\n",
    "    num = len(lists) / 2\n",
    "    num = int(num) #得到  lists 长度的一半\n",
    "    left = merge_sort(lists[:num]) #递归向左对左子序列 做 归并排序\n",
    "    right = merge_sort(lists[num:])# 递归向右对 右子序列做归并排序\n",
    "    return merge(left,right) #合并左右序列\n",
    "            "
   ]
  },
  {
   "cell_type": "code",
   "execution_count": 11,
   "metadata": {},
   "outputs": [
    {
     "data": {
      "text/plain": [
       "[]"
      ]
     },
     "execution_count": 11,
     "metadata": {},
     "output_type": "execute_result"
    }
   ],
   "source": [
    "lists = [100,100,1,200,30,88,23,45,24,56,2,4,5,2,52]\n",
    "#merge_sort(lists)\n"
   ]
  },
  {
   "cell_type": "markdown",
   "metadata": {},
   "source": [
    "# 基数排序 \n",
    "空间复杂度高\n",
    "需要额外的开销大\n",
    "能实现O(n)的时间复杂度\n",
    "稳定\n"
   ]
  },
  {
   "cell_type": "code",
   "execution_count": 75,
   "metadata": {},
   "outputs": [],
   "source": [
    "import math\n",
    "def radix_sort(lists,radix = 10):\n",
    "    k = math.ceil(math.log(max(lists), radix)) # 获取位数\n",
    "    bucket = [[] for i in range(radix)] #初始化 桶\n",
    "    for i in range(1,k+1): #从低位循环到高位\n",
    "        for j in lists: #循环遍历列表\n",
    "            count = int(j/(radix**(i-1))%(radix))#获取当前位 应位于的桶编号\n",
    "            bucket[count].append(j) #将该数值加入到该桶中\n",
    "        del lists[:]# 删除 list中的数值\n",
    "        for z in bucket:\n",
    "            lists += z #连接桶内值 构成新的list\n",
    "            del z[:] #清除 每个桶内的值开始下一轮\n",
    "    return lists"
   ]
  },
  {
   "cell_type": "code",
   "execution_count": 76,
   "metadata": {},
   "outputs": [
    {
     "data": {
      "text/plain": [
       "[1, 2, 2, 4, 5, 23, 24, 30, 45, 52, 56, 88, 100, 100, 200]"
      ]
     },
     "execution_count": 76,
     "metadata": {},
     "output_type": "execute_result"
    }
   ],
   "source": [
    "lists = [100,100,1,200,30,88,23,45,24,56,2,4,5,2,52]\n",
    "radix_sort(lists)"
   ]
  },
  {
   "cell_type": "code",
   "execution_count": null,
   "metadata": {},
   "outputs": [],
   "source": []
  }
 ],
 "metadata": {
  "kernelspec": {
   "display_name": "Python 3",
   "language": "python",
   "name": "python3"
  },
  "language_info": {
   "codemirror_mode": {
    "name": "ipython",
    "version": 3
   },
   "file_extension": ".py",
   "mimetype": "text/x-python",
   "name": "python",
   "nbconvert_exporter": "python",
   "pygments_lexer": "ipython3",
   "version": "3.6.5"
  }
 },
 "nbformat": 4,
 "nbformat_minor": 2
}
