{
 "cells": [
  {
   "cell_type": "markdown",
   "metadata": {},
   "source": [
    "# 145. 二叉树的前序 中序 后序 遍历\n",
    "###  前序中序后序 遍历 递归写法"
   ]
  },
  {
   "cell_type": "code",
   "execution_count": 2,
   "metadata": {},
   "outputs": [],
   "source": [
    "\n",
    "def pre(root):\n",
    "    if root == None:\n",
    "        return []\n",
    "    return [root.val] + pre(root.left) + pre(root.right)\n",
    "\n",
    "def inorder(root):\n",
    "    if root == None:\n",
    "        return []\n",
    "    return inorder(root.left) + [root.val] + inorder(root.right)\n",
    "\n",
    "def tin(root):\n",
    "    if root == None:\n",
    "        return []\n",
    "    return tin(root.left)+ tin(root.rihgt) + [root.val]"
   ]
  },
  {
   "cell_type": "markdown",
   "metadata": {},
   "source": [
    "### 前序中序后序 遍历 迭代写法"
   ]
  },
  {
   "cell_type": "code",
   "execution_count": 9,
   "metadata": {},
   "outputs": [],
   "source": [
    "#中序\n",
    "\n",
    "def inorder(root):\n",
    "    output,stack = [],[]\n",
    "    while True:\n",
    "        while(root != None):\n",
    "            stack.append(root)\n",
    "            root = root.left\n",
    "        if not stack:\n",
    "            return output\n",
    "        node = stack.pop()\n",
    "        output.append(node.val)\n",
    "        root = node.right\n",
    "    return output"
   ]
  },
  {
   "cell_type": "code",
   "execution_count": 10,
   "metadata": {},
   "outputs": [],
   "source": [
    "# 前序\n",
    "def pre(root):\n",
    "    output,stack = [],[]\n",
    "    stack.append(root)\n",
    "    while(len(stack)>0):\n",
    "        node = stack.pop()\n",
    "        output.append(node.val)\n",
    "        if node.right:\n",
    "            stack.append(node.right)\n",
    "        if node.left:\n",
    "            stack.append(node.left)\n",
    "    return output\n"
   ]
  },
  {
   "cell_type": "code",
   "execution_count": 11,
   "metadata": {},
   "outputs": [],
   "source": [
    "#后序\n",
    "def tin(root):\n",
    "    if root == None:\n",
    "        return []\n",
    "    stack1 = []\n",
    "    stack2 = []\n",
    "    result = []\n",
    "    stack1.append(root)\n",
    "    while len(stack1) > 0:\n",
    "        node = stack1.pop()\n",
    "        stack2.append(node)\n",
    "        if node.left:\n",
    "            stack1.append(node.left)\n",
    "        if node.right:\n",
    "            stack1.append(node.right)\n",
    "    while len(stack2) > 0:\n",
    "        top= stack2.pop()\n",
    "        result.append(top.val)\n",
    "    return result\n"
   ]
  },
  {
   "cell_type": "markdown",
   "metadata": {},
   "source": [
    "#  100. 相同的树"
   ]
  },
  {
   "cell_type": "code",
   "execution_count": 1,
   "metadata": {},
   "outputs": [],
   "source": [
    "def isSameTree(self, p, q):\n",
    "    \"\"\"\n",
    "    :type p: TreeNode\n",
    "    :type q: TreeNode\n",
    "    :rtype: bool\n",
    "    \"\"\"\n",
    "    if p == None and q == None :\n",
    "        return True\n",
    "    if p == None or q == None:\n",
    "        return False\n",
    "    return (p.val == q.val) and self.isSameTree(p.left,q.left) and self.isSameTree(p.right,q.right)"
   ]
  },
  {
   "cell_type": "markdown",
   "metadata": {},
   "source": [
    "# 101.  对称的树"
   ]
  },
  {
   "cell_type": "code",
   "execution_count": 14,
   "metadata": {},
   "outputs": [],
   "source": [
    "def isSymmetric(self, root):\n",
    "    \"\"\"\n",
    "    :type root: TreeNode\n",
    "    :rtype: bool\n",
    "    \"\"\"\n",
    "    def isMirror(leafnode1,leafnode2):\n",
    "        if (leafnode1 == None and leafnode2 == None):\n",
    "            return True\n",
    "        if (leafnode1 == None or leafnode2 == None):\n",
    "            return False\n",
    "        if leafnode1.val != leafnode2.val:\n",
    "            return False\n",
    "        else:\n",
    "            return isMirror(leafnode1.left, leafnode2.right) and isMirror(leafnode1.right, leafnode2.left)\n",
    "    return(isMirror(root,root))"
   ]
  },
  {
   "cell_type": "markdown",
   "metadata": {},
   "source": [
    "# 102. 二叉树的层次遍历"
   ]
  },
  {
   "cell_type": "code",
   "execution_count": 16,
   "metadata": {},
   "outputs": [],
   "source": [
    "def levelOrder(self, root):\n",
    "    \"\"\"\n",
    "    :type root: TreeNode\n",
    "    :rtype: List[List[int]]\n",
    "    \"\"\"\n",
    "    output = []\n",
    "    queue = []\n",
    "    queue1 = []\n",
    "    if root == None:\n",
    "        return []\n",
    "    queue.append(root)\n",
    "\n",
    "    while (len(queue)>0):\n",
    "        res = []\n",
    "\n",
    "        while(len(queue) > 0):\n",
    "            node = queue.pop(0)\n",
    "            res.append(node.val)\n",
    "            if node.left:\n",
    "                queue1.append(node.left)\n",
    "            if node.right:\n",
    "                queue1.append(node.right)\n",
    "\n",
    "        output.append(res)\n",
    "        queue = queue1\n",
    "        queue1 = []\n",
    "    return output"
   ]
  },
  {
   "cell_type": "markdown",
   "metadata": {},
   "source": [
    "# 二叉树的层次遍历 从底层到root"
   ]
  },
  {
   "cell_type": "code",
   "execution_count": 21,
   "metadata": {},
   "outputs": [],
   "source": [
    "def levelOrderBottom(self, root):\n",
    "    \"\"\"\n",
    "    :type root: TreeNode\n",
    "    :rtype: List[List[int]]\n",
    "    \"\"\"\n",
    "    output = []\n",
    "    queue = []\n",
    "    queue1 = []\n",
    "    if root == None:\n",
    "        return []\n",
    "    queue.append(root)\n",
    "\n",
    "    while (len(queue)>0):\n",
    "        res = []\n",
    "\n",
    "        while(len(queue) > 0):\n",
    "            node = queue.pop(0)\n",
    "            res.append(node.val)\n",
    "            if node.left:\n",
    "                queue1.append(node.left)\n",
    "            if node.right:\n",
    "                queue1.append(node.right)\n",
    "\n",
    "        output.append(res)\n",
    "        queue = queue1\n",
    "        queue1 = []\n",
    "    return output[::-1]"
   ]
  },
  {
   "cell_type": "markdown",
   "metadata": {},
   "source": [
    "# 103.二叉树的锯齿层级遍历"
   ]
  },
  {
   "cell_type": "code",
   "execution_count": 17,
   "metadata": {},
   "outputs": [],
   "source": [
    "def zigzagLevelOrder(self, root):\n",
    "    \"\"\"\n",
    "    :type root: TreeNode\n",
    "    :rtype: List[List[int]]\n",
    "    \"\"\"\n",
    "    output = []\n",
    "    queue = []\n",
    "    queue1 = []\n",
    "    if root == None:\n",
    "        return []\n",
    "    queue.append(root)\n",
    "    i = 0\n",
    "    while (len(queue)>0):\n",
    "        res = []\n",
    "\n",
    "        while(len(queue) > 0):\n",
    "\n",
    "            node = queue.pop()\n",
    "            res.append(node.val)\n",
    "            if i%2 == 0:\n",
    "                if node.left:\n",
    "                    queue1.append(node.left)\n",
    "                if node.right:\n",
    "                    queue1.append(node.right)\n",
    "            else:\n",
    "\n",
    "                if node.right:\n",
    "                    queue1.append(node.right)\n",
    "                if node.left:\n",
    "                    queue1.append(node.left)\n",
    "\n",
    "\n",
    "        output.append(res)\n",
    "        i += 1\n",
    "        queue = queue1\n",
    "        queue1 = []\n",
    "    return output"
   ]
  },
  {
   "cell_type": "markdown",
   "metadata": {},
   "source": [
    "# 104.二叉树的最大深度"
   ]
  },
  {
   "cell_type": "code",
   "execution_count": 18,
   "metadata": {},
   "outputs": [],
   "source": [
    "def maxDepth(self, root):\n",
    "    \"\"\"\n",
    "    :type root: TreeNode\n",
    "    :rtype: int\n",
    "    \"\"\"\n",
    "    if root == None:\n",
    "        return 0\n",
    "    return max(self.maxDepth(root.left) + 1, self.maxDepth(root.right) + 1)"
   ]
  },
  {
   "cell_type": "markdown",
   "metadata": {},
   "source": [
    "# 105.从前序和中序得到二叉树"
   ]
  },
  {
   "cell_type": "code",
   "execution_count": 19,
   "metadata": {},
   "outputs": [],
   "source": [
    "def buildTree(self, preorder, inorder):\n",
    "    \"\"\"\n",
    "    :type preorder: List[int]\n",
    "    :type inorder: List[int]\n",
    "    :rtype: TreeNode\n",
    "    \"\"\"\n",
    "    if inorder:\n",
    "        num = preorder.pop(0)\n",
    "        idx = inorder.index(num)\n",
    "        root = TreeNode(inorder[idx])\n",
    "        root.left = self.buildTree(preorder,inorder[:idx])\n",
    "        root.right = self.buildTree(preorder,inorder[idx+1:])\n",
    "        return root\n",
    "    else:\n",
    "        return None"
   ]
  },
  {
   "cell_type": "markdown",
   "metadata": {},
   "source": [
    "# 106.从中序和后序得到二叉树"
   ]
  },
  {
   "cell_type": "code",
   "execution_count": 20,
   "metadata": {},
   "outputs": [],
   "source": [
    "def buildTree(self, inorder, postorder):\n",
    "    \"\"\"\n",
    "    :type inorder: List[int]\n",
    "    :type postorder: List[int]\n",
    "    :rtype: TreeNode\n",
    "    \"\"\"\n",
    "    if postorder:\n",
    "        idx = inorder.index(postorder.pop())\n",
    "        root = TreeNode(inorder[idx])\n",
    "        del inorder[idx]\n",
    "        root.left = self.buildTree(inorder[:idx],postorder[:idx])\n",
    "        root.right = self.buildTree(inorder[idx:],postorder[idx:])\n",
    "        return root\n",
    "    else:\n",
    "        return None"
   ]
  },
  {
   "cell_type": "markdown",
   "metadata": {},
   "source": [
    "# 108.将有序数组转为二叉树"
   ]
  },
  {
   "cell_type": "code",
   "execution_count": 22,
   "metadata": {},
   "outputs": [],
   "source": [
    "def sortedArrayToBST(self, nums):\n",
    "    \"\"\"\n",
    "    :type nums: List[int]\n",
    "    :rtype: TreeNode\n",
    "    \"\"\"\n",
    "    count = len(nums)\n",
    "    if count != 0:\n",
    "        idx = int(round((count+0.5) /2) -1)\n",
    "        root = TreeNode(nums[idx])\n",
    "        root.left = self.sortedArrayToBST(nums[:idx])\n",
    "        root.right = self.sortedArrayToBST(nums[idx+1:])\n",
    "        return root\n",
    "    else:\n",
    "        return None\n"
   ]
  },
  {
   "cell_type": "markdown",
   "metadata": {},
   "source": [
    "# 110.平衡二叉树"
   ]
  },
  {
   "cell_type": "code",
   "execution_count": 23,
   "metadata": {},
   "outputs": [],
   "source": [
    "def isBalanced(self, root):\n",
    "    \"\"\"\n",
    "    :type root: TreeNode\n",
    "    :rtype: bool\n",
    "    \"\"\"\n",
    "    def depth(root):\n",
    "        if root == None:\n",
    "            return 0\n",
    "        return max(depth(root.left)+1,depth(root.right)+1)\n",
    "\n",
    "    if root == None:\n",
    "        return True\n",
    "    return abs(depth(root.left)-depth(root.right)) < 2 and self.isBalanced(root.left) and self.isBalanced(root.right)\n",
    "        "
   ]
  },
  {
   "cell_type": "markdown",
   "metadata": {},
   "source": [
    "# 111.二叉树的最小深度"
   ]
  },
  {
   "cell_type": "code",
   "execution_count": 24,
   "metadata": {},
   "outputs": [],
   "source": [
    "def minDepth(self, root):\n",
    "    \"\"\"\n",
    "    :type root: TreeNode\n",
    "    :rtype: int\n",
    "    \"\"\"\n",
    "    if root == None: # 最低子树高度 是到叶子节点 不是没有左子树\n",
    "        return 0\n",
    "    if root.left == None and root.right != None:\n",
    "        return self.minDepth(root.right) + 1\n",
    "    elif root.left != None and root.right == None:\n",
    "        return self.minDepth(root.left) + 1\n",
    "    return min(self.minDepth(root.left),self.minDepth(root.right))+1"
   ]
  },
  {
   "cell_type": "markdown",
   "metadata": {},
   "source": [
    "# 112.路径总和"
   ]
  },
  {
   "cell_type": "code",
   "execution_count": 25,
   "metadata": {},
   "outputs": [],
   "source": [
    "def hasPathSum(self, root, sum):\n",
    "    \"\"\"\n",
    "    :type root: TreeNode\n",
    "    :type sum: int\n",
    "    :rtype: bool\n",
    "    \"\"\"\n",
    "    if root == None :\n",
    "        return False\n",
    "    if root.left == None and root.right == None and root.val == sum:\n",
    "        return True\n",
    "    if root.left != None and root.right == None:\n",
    "        return self.hasPathSum(root.left,sum - root.val)\n",
    "    if root.right != None and root.left == None:\n",
    "        return self.hasPathSum(root.right,sum - root.val)\n",
    "    return self.hasPathSum(root.left,sum-root.val) or self.hasPathSum(root.right,sum-root.val)"
   ]
  },
  {
   "cell_type": "markdown",
   "metadata": {},
   "source": [
    "# 113.路径总和 II"
   ]
  },
  {
   "cell_type": "code",
   "execution_count": 26,
   "metadata": {},
   "outputs": [],
   "source": [
    "def pathSum(self, root, sum):\n",
    "    \"\"\"\n",
    "    :type root: TreeNode\n",
    "    :type sum: int\n",
    "    :rtype: List[List[int]]\n",
    "    \"\"\"\n",
    "    paths = []\n",
    "    def travsel(root,sum,path=[]):\n",
    "        if root == None :\n",
    "            return \n",
    "        if root.left == None and root.right == None and root.val == sum:\n",
    "            paths.append(path + [root.val])\n",
    "        if root.left != None:\n",
    "            travsel(root.left,sum - root.val,path+ [root.val])\n",
    "        if root.right != None:\n",
    "            travsel(root.right,sum - root.val,path + [root.val])\n",
    "\n",
    "    travsel(root,sum)\n",
    "    return paths\n",
    "   "
   ]
  },
  {
   "cell_type": "markdown",
   "metadata": {},
   "source": [
    "# 96. 不同的二叉搜索树"
   ]
  },
  {
   "cell_type": "code",
   "execution_count": 1,
   "metadata": {},
   "outputs": [],
   "source": [
    "def numTrees(self, n):\n",
    "    \"\"\"\n",
    "    :type n: int\n",
    "    :rtype: int\n",
    "    \"\"\"\n",
    "    if n == 0:\n",
    "        return 0\n",
    "    if n == 1:\n",
    "        return 1\n",
    "    res = [0 for _ in range(n+1)]\n",
    "    res[0] = res[1] = 1\n",
    "    for i in range(2,n+1):\n",
    "        for j in range(1,i+1):\n",
    "            res[i] += res[j-1]*res[i-j]\n",
    "    return res[n]"
   ]
  },
  {
   "cell_type": "markdown",
   "metadata": {},
   "source": [
    "# 95.不同的二叉搜索树II"
   ]
  },
  {
   "cell_type": "code",
   "execution_count": 90,
   "metadata": {},
   "outputs": [],
   "source": [
    "class Solution(object):\n",
    "    def generateTrees(self, n):\n",
    "        \"\"\"\n",
    "        :type n: int\n",
    "        :rtype: List[TreeNode]\n",
    "        \"\"\"\n",
    "        if n == 0:\n",
    "            return None\n",
    "        if n == 1:\n",
    "            root = TreeNode(1)\n",
    "            return [root]\n",
    "        def gTrees(start,end):\n",
    "            res = []\n",
    "            if start > end:\n",
    "                res.append(None)\n",
    "                return res\n",
    "            for i in range(start,end+1):\n",
    "                subLeftTree = gTrees(start,i-1)\n",
    "                subrightTree = gTrees(i+1,end)\n",
    "                for l in subLeftTree:\n",
    "                    for r in subrightTree:\n",
    "                        node = TreeNode(i)\n",
    "                        node.left = l\n",
    "                        node.right = r\n",
    "                        res.append(node)\n",
    "            return res\n",
    "        return gTrees(1,n)"
   ]
  },
  {
   "cell_type": "code",
   "execution_count": 91,
   "metadata": {},
   "outputs": [],
   "source": [
    "s = 'abc'"
   ]
  },
  {
   "cell_type": "code",
   "execution_count": 93,
   "metadata": {},
   "outputs": [
    {
     "data": {
      "text/plain": [
       "'ab'"
      ]
     },
     "execution_count": 93,
     "metadata": {},
     "output_type": "execute_result"
    }
   ],
   "source": [
    "s[0:1+1]"
   ]
  },
  {
   "cell_type": "code",
   "execution_count": null,
   "metadata": {},
   "outputs": [],
   "source": []
  }
 ],
 "metadata": {
  "kernelspec": {
   "display_name": "Python 3",
   "language": "python",
   "name": "python3"
  },
  "language_info": {
   "codemirror_mode": {
    "name": "ipython",
    "version": 3
   },
   "file_extension": ".py",
   "mimetype": "text/x-python",
   "name": "python",
   "nbconvert_exporter": "python",
   "pygments_lexer": "ipython3",
   "version": "3.6.5"
  }
 },
 "nbformat": 4,
 "nbformat_minor": 2
}
