{
 "cells": [
  {
   "cell_type": "markdown",
   "metadata": {},
   "source": [
    "# 5. 最长回文字符串"
   ]
  },
  {
   "cell_type": "code",
   "execution_count": 91,
   "metadata": {},
   "outputs": [],
   "source": [
    "def palindorome(string):\n",
    "    flag = True\n",
    "    for i in range(int(len(string)/2)):\n",
    "        if string[i] != string[-i-1]:\n",
    "            return False\n",
    "    return flag"
   ]
  },
  {
   "cell_type": "code",
   "execution_count": 93,
   "metadata": {},
   "outputs": [],
   "source": [
    "#暴力法 （超出时间限制）\n",
    "class Solution(object):\n",
    "    def longestPalindrome(self, s):\n",
    "        \"\"\"\n",
    "        :type s: str\n",
    "        :rtype: str\n",
    "        \"\"\"\n",
    "        max = 0\n",
    "        result = \"\"\n",
    "        if(len(s) < 2):\n",
    "            return s\n",
    "        def palindrome(string):\n",
    "            flag = True\n",
    "            for i in range(int(len(string)/2)):\n",
    "                if string[i] != string[-i-1]:\n",
    "                    return False\n",
    "            return flag\n",
    "        for i in range(len(s)):\n",
    "            for j in range(i+1,len(s)): \n",
    "                if palindrome(s[i:j+1]) and len(s[i:j+1]) >= max:\n",
    "                    result = s[i:j+1]\n",
    "                    max = len(s[i:j+1])\n",
    "        if len(result) == 0:\n",
    "            return s[-1]\n",
    "        return result\n",
    "                "
   ]
  },
  {
   "cell_type": "code",
   "execution_count": 5,
   "metadata": {},
   "outputs": [],
   "source": [
    "# 每个字母当成回文串的中心\n",
    "def longestPalindrome(s):\n",
    "    n = len(s)\n",
    "    res = ''\n",
    "    def helper(i,j):\n",
    "        nonlocal res\n",
    "        while i >= 0 and j < n and s[i] == s[j]:\n",
    "            i -= 1\n",
    "            j += 1\n",
    "        if len(res) < j -i -1:\n",
    "            res = s[i+1:j]\n",
    "    \n",
    "    for i in range(n):\n",
    "        helper(i,i)\n",
    "        helper(i,i+1)\n",
    "    return res"
   ]
  },
  {
   "cell_type": "code",
   "execution_count": 16,
   "metadata": {},
   "outputs": [
    {
     "data": {
      "text/plain": [
       "'bacab'"
      ]
     },
     "execution_count": 16,
     "metadata": {},
     "output_type": "execute_result"
    }
   ],
   "source": [
    "longestPalindrome(\"abacab\")"
   ]
  },
  {
   "cell_type": "code",
   "execution_count": 20,
   "metadata": {},
   "outputs": [],
   "source": [
    "# 每个字母当成回文串的结束\n",
    "def longestPalindrome(s):\n",
    "    if not s:\n",
    "        return \"\"\n",
    "    max_len = 1\n",
    "    n = len(s)\n",
    "    start = 0\n",
    "    for i in range(1,n):\n",
    "        even = s[i-max_len:i+1]\n",
    "        odd = s[i-max_len-1:i+1]\n",
    "        print(i,even,odd,start,max_len)\n",
    "        if i - max_len - 1 >= 0 and odd == odd[::-1]:\n",
    "            start = i - max_len - 1\n",
    "            max_len += 2\n",
    "        elif i - max_len >= 0 and even == even[::-1]:\n",
    "            start = i - max_len\n",
    "            max_len += 1\n",
    "    return s[start: start+ max_len]"
   ]
  },
  {
   "cell_type": "code",
   "execution_count": 38,
   "metadata": {},
   "outputs": [],
   "source": [
    "# 动态规划\n",
    "def longestPalindrome(s):\n",
    "    if not s:\n",
    "        return \"\"\n",
    "    res =\"\"\n",
    "    n = len(s)\n",
    "    dp = [[0]*n for _ in range(n)] # 字符串 j 到 i 是否是回文串\n",
    "    max_len = float(\"-inf\") #负无穷\n",
    "    for i in range(n):\n",
    "        for j in range(i,-1,-1):# 步长为 -1\n",
    "            #print(i,j,s[i],s[j],res,max_len)\n",
    "            if s[i] == s[j] and (i - j < 2 or dp[i-1][j+1]):\n",
    "                dp[i][j] = 1\n",
    "            if dp[i][j] and max_len < i - j + 1:\n",
    "                res = s[j:i+1]\n",
    "                max_len = i - j +1\n",
    "    return res"
   ]
  },
  {
   "cell_type": "code",
   "execution_count": 39,
   "metadata": {},
   "outputs": [
    {
     "data": {
      "text/plain": [
       "'abcbabcba'"
      ]
     },
     "execution_count": 39,
     "metadata": {},
     "output_type": "execute_result"
    }
   ],
   "source": [
    "s = 'sabcbabcba'\n",
    "longestPalindrome(s)\n"
   ]
  },
  {
   "cell_type": "code",
   "execution_count": 41,
   "metadata": {},
   "outputs": [],
   "source": [
    "dp = [0 for _ in range()] "
   ]
  },
  {
   "cell_type": "markdown",
   "metadata": {},
   "source": [
    "# 70. 爬楼梯"
   ]
  },
  {
   "cell_type": "code",
   "execution_count": 44,
   "metadata": {},
   "outputs": [],
   "source": [
    "# 自底至上的表格法\n",
    "def climbStairs(n):\n",
    "    if n == 1:\n",
    "        return 1\n",
    "    if n == 2:\n",
    "        return 2\n",
    "    res = [0 for _ in range(n+1)] \n",
    "    dp = [0 for _ in range(n+1)] \n",
    "    dp[1] = dp[2] = 1\n",
    "    res[1] = 1\n",
    "    res[2] = 2\n",
    "    for i in range(3,n+1):\n",
    "        if dp[i-1] and dp[i-2]:\n",
    "            dp[i] = 1\n",
    "            res[i] = res[i-1]+res[i-2]\n",
    "\n",
    "    return res[n]\n",
    "        "
   ]
  },
  {
   "cell_type": "code",
   "execution_count": 63,
   "metadata": {},
   "outputs": [],
   "source": [
    "#自顶至下的备忘录法\n",
    "def climbStairs(n):\n",
    "    if n == 1:\n",
    "        return 1\n",
    "    if n == 2:\n",
    "        return 2\n",
    "    res = [0 for _ in range(n+1)]\n",
    "    res[1] = 1 \n",
    "    res[2] = 2\n",
    "\n",
    "    def ans(n):\n",
    "        if n == 1:\n",
    "            return 1\n",
    "        if n == 2:\n",
    "            return 2            \n",
    "        res[n] = ans(n-1) + res[n-2]\n",
    "        return res[n]\n",
    "    return ans[n]"
   ]
  },
  {
   "cell_type": "markdown",
   "metadata": {},
   "source": [
    "# 746.使用最小花费体力爬楼梯"
   ]
  },
  {
   "cell_type": "code",
   "execution_count": 47,
   "metadata": {},
   "outputs": [],
   "source": [
    "#动态规划\n",
    "# 初始状态 dp[0] = cost[0] dp[2] = cost[1]\n",
    "# dp[i] = min(dp[i-1],dp[i-2])+ cost[i]\n",
    "'''\n",
    "dp 数组定义 ：从第i层楼梯走出去的最小开销\n",
    "到达该层会有两种方式： 从 i -1 到达， 从 i-2 到达\n",
    "\n",
    "'''\n",
    "def minCostClimbingStairs(cost):\n",
    "    n = len(cost)\n",
    "    dp = [0 for i in range(n+1)] \n",
    "    dp [1] = cost[0]\n",
    "    for i in range(2,n+1):\n",
    "        dp[i] = min(dp[i-1],dp[i-2])+cost[i-1]\n",
    "    return min(dp[-2],dp[-1])\n",
    "        "
   ]
  },
  {
   "cell_type": "code",
   "execution_count": 48,
   "metadata": {},
   "outputs": [],
   "source": [
    "def minCostClimbingStairs(self, cost):\n",
    "    \"\"\"\n",
    "    :type cost: List[int]\n",
    "    :rtype: int\n",
    "    \"\"\"\n",
    "    n = len(cost)\n",
    "    if n == 2:\n",
    "        return min(cost)\n",
    "\n",
    "    p = cost[0]\n",
    "    q = cost[1]\n",
    "    for i in range(2,n):\n",
    "        next_ = min(p,q) + cost[i]\n",
    "        p = q\n",
    "        q = next_\n",
    "    return min(p,q)\n"
   ]
  },
  {
   "cell_type": "code",
   "execution_count": 71,
   "metadata": {},
   "outputs": [],
   "source": [
    "def minCostClimbingStairs(self, cost):\n",
    "    \"\"\"\n",
    "    :type cost: List[int]\n",
    "    :rtype: int\n",
    "    \"\"\"\n",
    "    n = len(cost)\n",
    "    dp = [-1 for i in range(n+1)] \n",
    "    dp [0] = cost[0]\n",
    "    dp [1] = cost[1]\n",
    "    def helper(n):\n",
    "        if n == 0:\n",
    "            return 0\n",
    "        if n == 1:\n",
    "            return cost[0]\n",
    "        if dp[n] >= 0:\n",
    "            return dp[n]\n",
    "        dp[n] = min(helper(n-1),helper(n-2))+cost[n-1]\n",
    "        return min(dp[n],dp[n-1])\n",
    "    return helper(n)\n"
   ]
  },
  {
   "cell_type": "code",
   "execution_count": 74,
   "metadata": {},
   "outputs": [],
   "source": [
    "def minCostClimbingStairs(self, cost):\n",
    "    n = len(cost)\n",
    "    self.dp ={0:0,1:0}\n",
    "    return self.helper(n,cost)\n",
    "    def helper(self,n,cost):\n",
    "        if n in self.fp:\n",
    "            return self.dp[n]\n",
    "        self.dp[n] = min(self.helper(n-2,cost)+ cost[n-2], self.helper(n-1,cost)+cost[n-1])\n",
    "        return self.dp[n]\n",
    "    # dp[n] 表示 \n",
    "    "
   ]
  },
  {
   "cell_type": "markdown",
   "metadata": {},
   "source": [
    "# 256.粉刷房子"
   ]
  },
  {
   "cell_type": "code",
   "execution_count": 62,
   "metadata": {},
   "outputs": [],
   "source": [
    "def minCost(self, costs):\n",
    "    if len(costs) == 0:\n",
    "        return 0\n",
    "    if len(costs) == 1:\n",
    "        return min(costs[0])\n",
    "    n = len(costs)\n",
    "    res =[[0,0,0] for _ in range(n)]\n",
    "    res[0] = costs[0]\n",
    "    for i in range(1,n):\n",
    "        for j in range(3):\n",
    "            if j == 0 :\n",
    "                res[i][j] = min(res[i-1][1],res[i-1][2]) + costs[i][j]\n",
    "            elif j == 1:\n",
    "                res[i][j] = min(res[i-1][0],res[i-1][2]) + costs[i][j]\n",
    "            elif j == 2:\n",
    "                res[i][j] = min(res[i-1][0],res[i-1][1]) + costs[i][j]\n",
    "    return min(res[n-1])\n"
   ]
  },
  {
   "cell_type": "markdown",
   "metadata": {},
   "source": [
    "# 265.粉刷房子II"
   ]
  },
  {
   "cell_type": "code",
   "execution_count": 75,
   "metadata": {},
   "outputs": [],
   "source": [
    "def minCostII(self, costs):\n",
    "    \"\"\"\n",
    "    :type costs: List[List[int]]\n",
    "    :rtype: int\n",
    "    \"\"\"\n",
    "    if len(costs) == 0:\n",
    "        return 0\n",
    "    if len(costs) == 1:\n",
    "        return min(costs[0])\n",
    "    n = len(costs)\n",
    "    k = len(costs[0])\n",
    "    res =[[0]*k for _ in range(n)]\n",
    "    temp =[[0]*k for _ in range(n)]\n",
    "    res[0] = costs[0]\n",
    "    for i in range(1,n):\n",
    "        for j in range(k):\n",
    "            temp[i]= res[i-1][:j]+res[i-1][j+1:]\n",
    "            #print(j,res[i][:j]+res[i][j+1:])\n",
    "            res[i][j] = min(temp[i])+costs[i][j]\n",
    "    return min(res[n-1])\n"
   ]
  },
  {
   "cell_type": "markdown",
   "metadata": {},
   "source": [
    "# 276. 栅栏上色"
   ]
  },
  {
   "cell_type": "markdown",
   "metadata": {},
   "source": [
    "## 递推式:第三根柱子要不和第一根柱子不是一个颜色,要不和第二根柱子不是一个颜色,所以和第一根柱子颜色不一样的概率是k-1乘以第一根柱子的概率\n",
    "## 和第二根柱子颜色不一样的概率是k-1乘以第二根柱子的概率,同时如果和第一根柱子颜色相同,则已经包含在与第二根柱子颜色不同里面,反之亦然,所以相加就是总的概率\n",
    "\n"
   ]
  },
  {
   "cell_type": "code",
   "execution_count": 76,
   "metadata": {},
   "outputs": [],
   "source": [
    "def numWays(self, n, k):\n",
    "    \"\"\"\n",
    "    :type n: int\n",
    "    :type k: int\n",
    "    :rtype: int\n",
    "    \"\"\"\n",
    "    if n == 1:\n",
    "        return k\n",
    "    if n == 2:\n",
    "        return k*k\n",
    "    dp = [0,k,k*k,0]\n",
    "    for i in range(3,n+1):\n",
    "        dp[3] = (k-1)*(dp[1]+dp[2])\n",
    "        dp[1] = dp[2]\n",
    "        dp[2] = dp[3]\n",
    "    return dp[3]"
   ]
  },
  {
   "cell_type": "markdown",
   "metadata": {},
   "source": [
    "# 198.打家劫舍"
   ]
  },
  {
   "cell_type": "code",
   "execution_count": 77,
   "metadata": {},
   "outputs": [],
   "source": [
    "class Solution(object):\n",
    "    def rob(self, nums):\n",
    "        \"\"\"\n",
    "        :type nums: List[int]\n",
    "        :rtype: int\n",
    "        \"\"\"\n",
    "        n = len(nums)\n",
    "        if n == 0:\n",
    "            return 0\n",
    "        if n == 1:\n",
    "            return nums[0]\n",
    "        if n == 2:\n",
    "            return max(nums)\n",
    "        res = [0 for i in range(n+1)]\n",
    "        res[0] = nums[0]\n",
    "        res[1] = max(nums[0],nums[1])\n",
    "        \n",
    "        for i in range(2,n):     \n",
    "            res[i] =max(res[i-1],res[i-2]+ nums[i])\n",
    "        return res[n-1]"
   ]
  },
  {
   "cell_type": "markdown",
   "metadata": {},
   "source": [
    "# 213. 打家劫舍 II"
   ]
  },
  {
   "cell_type": "code",
   "execution_count": null,
   "metadata": {},
   "outputs": [],
   "source": [
    "class Solution(object):\n",
    "    def rob(self, nums):\n",
    "        \"\"\"\n",
    "        :type nums: List[int]\n",
    "        :rtype: int\n",
    "        \"\"\"\n",
    "        n = len(nums)\n",
    "        if n == 0:\n",
    "            return 0\n",
    "        if n == 1:\n",
    "            return nums[0]\n",
    "        if n == 2:\n",
    "            return max(nums[0],nums[1])\n",
    "        res1 = [0 for i in range(n)]#可以偷第一家\n",
    "        res2 = [0 for i in range(n+1)]#不可以偷第一家\n",
    "        res1[0] = nums[0]\n",
    "        res1[1] = max(nums[0],nums[1])\n",
    "        res2[1] = nums[1]\n",
    "        res2[2] = max(nums[1],nums[2])\n",
    "        \n",
    "        for i in range(2,n-1):     \n",
    "            res1[i] =max(res1[i-1],res1[i-2]+ nums[i])\n",
    "        for j in range(3,n):\n",
    "            res2[j] = max(res2[j-1],res2[j-2]+ nums[j])\n",
    "        return max(res1[n-2],res2[n-1])"
   ]
  },
  {
   "cell_type": "markdown",
   "metadata": {},
   "source": [
    "# 337.打家劫舍 III"
   ]
  },
  {
   "cell_type": "code",
   "execution_count": 79,
   "metadata": {},
   "outputs": [],
   "source": [
    "def rob(self, root):\n",
    "    \"\"\"\n",
    "    :type root: TreeNode\n",
    "    :rtype: int\n",
    "    \"\"\"\n",
    "    if root == None:\n",
    "        return 0\n",
    "    if root.left == None and root.right == None:\n",
    "        return root.val\n",
    "\n",
    "    def helper(root):\n",
    "        res = [0,0] # res[0]表示不包含根节点的值 res[1]表示 包含根节点的值\n",
    "        if root == None:\n",
    "            return res\n",
    "        left = (helper(root.left))\n",
    "        right = (helper(root.right))\n",
    "        res[0] = max(left[0],left[1]) + max(right[0],right[1])# 不包含根节点\n",
    "        res[1] = left[0]+right[0] +root.val #包含根节点\n",
    "        return res\n",
    "    result = helper(root)\n",
    "\n",
    "    return max(result)"
   ]
  },
  {
   "cell_type": "markdown",
   "metadata": {},
   "source": [
    "# 157.乘积最大子序列\n"
   ]
  },
  {
   "cell_type": "code",
   "execution_count": null,
   "metadata": {},
   "outputs": [],
   "source": [
    "    def maxProduct(self, nums: List[int]) -> int:\n",
    "        n = len(nums)\n",
    "        imin = 1\n",
    "        imax = 1\n",
    "        big = -10000000\n",
    "        for i in range(0,n):\n",
    "            if nums[i] < 0:\n",
    "                imin,imax = imax,imin\n",
    "            imin = min(imin*nums[i],nums[i])\n",
    "            imax = max(imax*nums[i],nums[i])\n",
    "            big = max(big,imax)\n",
    "        return big"
   ]
  },
  {
   "cell_type": "markdown",
   "metadata": {},
   "source": [
    "# 322. 零钱兑换\n"
   ]
  },
  {
   "cell_type": "code",
   "execution_count": 83,
   "metadata": {},
   "outputs": [],
   "source": [
    "# 暴力法\n",
    "def coinChange(self, coins,amount):\n",
    "    n = len(coins)\n",
    "    dp = [-1 for _ in range(n)]\n",
    "    if amount == 0:\n",
    "        return 0\n",
    "    ming = 100000000000 \n",
    "    for i in range(n):\n",
    "        if coins[i] > amount:\n",
    "            continue\n",
    "        res =self.coinChange(coins,amount- coins[i])   \n",
    "        if res == -1:\n",
    "            continue\n",
    "        ming = min(res+1,ming)\n",
    "    if ming == 100000000000:\n",
    "        return -1\n",
    "    else:\n",
    "        return ming"
   ]
  },
  {
   "cell_type": "code",
   "execution_count": 84,
   "metadata": {},
   "outputs": [],
   "source": [
    "# 时间复杂度高\n",
    "def coinChange(self, coins,amount):\n",
    "    n = len(coins)\n",
    "    dp = [-2 for _ in range(amount+1)]\n",
    "\n",
    "    def helper(coins,amount):\n",
    "        if amount == 0:\n",
    "            return 0\n",
    "        if dp[amount] != -2:\n",
    "            return dp[amount]\n",
    "        ming = float('inf')\n",
    "        for i in range(n):\n",
    "            if coins[i] > amount:\n",
    "                continue\n",
    "            res =helper(coins,amount- coins[i])   \n",
    "            if res == -1:\n",
    "                continue\n",
    "            ming = min(res+1,ming)\n",
    "        if ming == float('inf'):\n",
    "            return -1\n",
    "        else:\n",
    "            dp[amount] = ming\n",
    "            return dp[amount]\n",
    "    return helper(coins,amount)\n"
   ]
  },
  {
   "cell_type": "code",
   "execution_count": null,
   "metadata": {},
   "outputs": [],
   "source": [
    "    def coinChange(self, coins: List[int], amount: int) -> int:\n",
    "        n = len(coins)\n",
    "        dp = [0 for _ in range(amount+1)]\n",
    "        for i in range(1,amount+1):\n",
    "            cost = float('inf')\n",
    "            for coin in coins:\n",
    "                if i >= coin:\n",
    "                    cost= min(cost,dp[i-coin]+1)\n",
    "            dp[i] = cost\n",
    "        \n",
    "        if dp[amount] == float('inf'):\n",
    "            return -1\n",
    "        else:\n",
    "            return dp[amount]"
   ]
  },
  {
   "cell_type": "markdown",
   "metadata": {},
   "source": [
    "# 300.最长上升子序列\n"
   ]
  },
  {
   "cell_type": "code",
   "execution_count": 86,
   "metadata": {},
   "outputs": [],
   "source": [
    "class Solution:\n",
    "    def lengthOfLIS(self, nums):\n",
    "        n = len(nums)\n",
    "        if n <= 1:\n",
    "            return n\n",
    "        dp = [ 1 for i in range(n)]\n",
    "        for i in range(1,n):\n",
    "            for j in range(i):\n",
    "                if nums[i] >nums[j]:\n",
    "                    dp[i] = max(dp[i],dp[j]+1)\n",
    "        return max(dp)"
   ]
  },
  {
   "cell_type": "markdown",
   "metadata": {},
   "source": [
    "# 96. 不同的二叉搜索树"
   ]
  },
  {
   "cell_type": "code",
   "execution_count": 87,
   "metadata": {},
   "outputs": [],
   "source": [
    "def numTrees(self, n):\n",
    "    \"\"\"\n",
    "    :type n: int\n",
    "    :rtype: int\n",
    "    \"\"\"\n",
    "    if n == 0:\n",
    "        return 0\n",
    "    if n == 1:\n",
    "        return 1\n",
    "    res = [0 for _ in range(n+1)]\n",
    "    res[0] = res[1] = 1\n",
    "    for i in range(2,n+1):\n",
    "        for j in range(1,i+1):\n",
    "            res[i] += res[j-1]*res[i-j]\n",
    "    return res[n]"
   ]
  },
  {
   "cell_type": "code",
   "execution_count": 88,
   "metadata": {},
   "outputs": [],
   "source": [
    "dp = [None for i in range(8)]"
   ]
  },
  {
   "cell_type": "markdown",
   "metadata": {},
   "source": [
    "# 95.不同的二叉搜索树II"
   ]
  },
  {
   "cell_type": "code",
   "execution_count": 90,
   "metadata": {},
   "outputs": [],
   "source": [
    "class Solution(object):\n",
    "    def generateTrees(self, n):\n",
    "        \"\"\"\n",
    "        :type n: int\n",
    "        :rtype: List[TreeNode]\n",
    "        \"\"\"\n",
    "        if n == 0:\n",
    "            return None\n",
    "        if n == 1:\n",
    "            root = TreeNode(1)\n",
    "            return [root]\n",
    "        def gTrees(start,end):\n",
    "            res = []\n",
    "            if start > end:\n",
    "                res.append(None)\n",
    "                return res\n",
    "            for i in range(start,end+1):\n",
    "                subLeftTree = gTrees(start,i-1)\n",
    "                subrightTree = gTrees(i+1,end)\n",
    "                for l in subLeftTree:\n",
    "                    for r in subrightTree:\n",
    "                        node = TreeNode(i)\n",
    "                        node.left = l\n",
    "                        node.right = r\n",
    "                        res.append(node)\n",
    "            return res\n",
    "        return gTrees(1,n)"
   ]
  },
  {
   "cell_type": "code",
   "execution_count": 91,
   "metadata": {},
   "outputs": [],
   "source": [
    "s = 'abc'"
   ]
  },
  {
   "cell_type": "code",
   "execution_count": 93,
   "metadata": {},
   "outputs": [
    {
     "data": {
      "text/plain": [
       "'ab'"
      ]
     },
     "execution_count": 93,
     "metadata": {},
     "output_type": "execute_result"
    }
   ],
   "source": [
    "s[0:1+1]"
   ]
  },
  {
   "cell_type": "markdown",
   "metadata": {},
   "source": [
    "# 91.解码方法"
   ]
  },
  {
   "cell_type": "code",
   "execution_count": 94,
   "metadata": {},
   "outputs": [],
   "source": [
    "class Solution(object):\n",
    "    def numDecodings(self, s):\n",
    "        \"\"\"\n",
    "        :type s: str\n",
    "        :rtype: int\n",
    "        \"\"\"\n",
    "        if s[0] == '0':\n",
    "            return 0\n",
    "        n = len(s)\n",
    "        dp = [0 for _ in range(n+1)]\n",
    "        dp[0] = 1\n",
    "        dp[1] = 1\n",
    "        for i in range(2,n+1):\n",
    "            if s[i-1] != '0':   \n",
    "                if int(s[i-2:i]) <= 26 and int(s[i-2:i]) > 10:\n",
    "                    dp[i] = dp[i-1] + dp[i-2]\n",
    "                elif int(s[i-2:i]) > 26:\n",
    "                    dp[i] = dp[i-1]\n",
    "                else:\n",
    "                    dp[i] = dp[i-3]\n",
    "                      \n",
    "            else:\n",
    "                if s[i-2] == '0' or int(s[i-2:i]) > 26 :\n",
    "                    return 0\n",
    "                else:\n",
    "                    dp[i] = dp[i-2] \n",
    "        return dp[n]"
   ]
  },
  {
   "cell_type": "code",
   "execution_count": null,
   "metadata": {},
   "outputs": [],
   "source": []
  }
 ],
 "metadata": {
  "kernelspec": {
   "display_name": "Python 3",
   "language": "python",
   "name": "python3"
  },
  "language_info": {
   "codemirror_mode": {
    "name": "ipython",
    "version": 3
   },
   "file_extension": ".py",
   "mimetype": "text/x-python",
   "name": "python",
   "nbconvert_exporter": "python",
   "pygments_lexer": "ipython3",
   "version": "3.6.5"
  }
 },
 "nbformat": 4,
 "nbformat_minor": 2
}
